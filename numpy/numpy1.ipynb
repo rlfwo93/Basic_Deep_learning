{
  "nbformat": 4,
  "nbformat_minor": 0,
  "metadata": {
    "colab": {
      "name": "Untitled91.ipynb",
      "provenance": [],
      "authorship_tag": "ABX9TyP12VGdtzSJVk5TBvfDulUX",
      "include_colab_link": true
    },
    "kernelspec": {
      "name": "python3",
      "display_name": "Python 3"
    },
    "language_info": {
      "name": "python"
    }
  },
  "cells": [
    {
      "cell_type": "markdown",
      "metadata": {
        "id": "view-in-github",
        "colab_type": "text"
      },
      "source": [
        "<a href=\"https://colab.research.google.com/github/rlfwo93/Basic_Deep_learning/blob/main/numpy/numpy1.ipynb\" target=\"_parent\"><img src=\"https://colab.research.google.com/assets/colab-badge.svg\" alt=\"Open In Colab\"/></a>"
      ]
    },
    {
      "cell_type": "code",
      "execution_count": null,
      "metadata": {
        "id": "Q26_s7JaHZjF"
      },
      "outputs": [],
      "source": [
        "import numpy as np"
      ]
    },
    {
      "cell_type": "markdown",
      "source": [
        "# **Numpy : 행렬을 만들어 주는 파이썬 라이브러리**\n",
        "\n",
        "- list와 다른 개념 \n",
        "\n",
        "- numpy는 행렬계산식이 가능\n",
        "   \n",
        "   ex) a1 = np.array([1,2]) *2\n",
        "\n",
        "- 딥러닝의 모든 연산식은 행렬연산 numpy는 러닝에 꼭 필요\n"
      ],
      "metadata": {
        "id": "_fLKcsRtHqO3"
      }
    },
    {
      "cell_type": "code",
      "source": [
        "a1 = np.array([[1,2,3,4,5,6,7,8,9]])\n",
        "\n",
        "print(\"a1 = \", a1, \", type = \", type(a1))"
      ],
      "metadata": {
        "colab": {
          "base_uri": "https://localhost:8080/"
        },
        "id": "feNDHo-nHbuI",
        "outputId": "72ba3380-47ea-40ca-ae9c-73ea00488e93"
      },
      "execution_count": null,
      "outputs": [
        {
          "output_type": "stream",
          "name": "stdout",
          "text": [
            "a1 =  [[1 2 3 4 5 6 7 8 9]] , type =  <class 'numpy.ndarray'>\n"
          ]
        }
      ]
    },
    {
      "cell_type": "code",
      "source": [
        "a2 = np.array([1,2])\n",
        "\n",
        "print(\"a2 = \", a2, \", type = \", type(a2))"
      ],
      "metadata": {
        "colab": {
          "base_uri": "https://localhost:8080/"
        },
        "id": "vi1b_cciIJC8",
        "outputId": "9a87e00e-699c-4ab4-c60f-cca2e9e2afb9"
      },
      "execution_count": null,
      "outputs": [
        {
          "output_type": "stream",
          "name": "stdout",
          "text": [
            "a2 =  [1 2] , type =  <class 'numpy.ndarray'>\n"
          ]
        }
      ]
    },
    {
      "cell_type": "code",
      "source": [
        "# 자연상수의 지수배에 대한 값\n",
        "exp = np.exp(1)\n",
        "exp"
      ],
      "metadata": {
        "id": "wQV20KxPIcx4",
        "outputId": "b1ed101f-1b63-47c5-956b-8d4727d3c836",
        "colab": {
          "base_uri": "https://localhost:8080/"
        }
      },
      "execution_count": null,
      "outputs": [
        {
          "output_type": "execute_result",
          "data": {
            "text/plain": [
              "2.718281828459045"
            ]
          },
          "metadata": {},
          "execution_count": 14
        }
      ]
    },
    {
      "cell_type": "code",
      "source": [
        "# 로그값\n",
        "log = np.log(1.7)\n",
        "log"
      ],
      "metadata": {
        "id": "cMPYXvfAJD_e",
        "outputId": "67d06c5d-55d1-4039-cbc2-64cffa86ee6d",
        "colab": {
          "base_uri": "https://localhost:8080/"
        }
      },
      "execution_count": null,
      "outputs": [
        {
          "output_type": "execute_result",
          "data": {
            "text/plain": [
              "0.5306282510621704"
            ]
          },
          "metadata": {},
          "execution_count": 15
        }
      ]
    },
    {
      "cell_type": "code",
      "source": [
        "# 제곱근 \n",
        "sqrt = np.sqrt(2)\n",
        "sqrt"
      ],
      "metadata": {
        "id": "PPrPgwxnJQEO",
        "outputId": "4a7d7408-9def-4468-c692-cfa74525ddaf",
        "colab": {
          "base_uri": "https://localhost:8080/"
        }
      },
      "execution_count": null,
      "outputs": [
        {
          "output_type": "execute_result",
          "data": {
            "text/plain": [
              "1.4142135623730951"
            ]
          },
          "metadata": {},
          "execution_count": 16
        }
      ]
    },
    {
      "cell_type": "markdown",
      "source": [
        "**numpy array의 속성메소드**"
      ],
      "metadata": {
        "id": "3skyb_ZdJeix"
      }
    },
    {
      "cell_type": "code",
      "source": [
        "'''\n",
        "해당 numpy의 행렬 정보 출력 \n",
        "행과 열로 출력 \n",
        "ex(1,4) 1행 2은 열\n",
        "'''\n",
        "\n",
        "a1.shape"
      ],
      "metadata": {
        "id": "ZoqJZbVOJct2",
        "outputId": "3ad68f1d-2070-44ab-be9b-c72a2bbc848b",
        "colab": {
          "base_uri": "https://localhost:8080/"
        }
      },
      "execution_count": null,
      "outputs": [
        {
          "output_type": "execute_result",
          "data": {
            "text/plain": [
              "(1, 4)"
            ]
          },
          "metadata": {},
          "execution_count": 27
        }
      ]
    },
    {
      "cell_type": "code",
      "source": [
        "# 해당 numpy의 차원을 출력 a1은 2차원\n",
        "\n",
        "a1.ndim"
      ],
      "metadata": {
        "id": "zvCaQqZOKGe9",
        "outputId": "220704d5-cc51-4dc6-f3fd-9af7bf39d0b8",
        "colab": {
          "base_uri": "https://localhost:8080/"
        }
      },
      "execution_count": null,
      "outputs": [
        {
          "output_type": "execute_result",
          "data": {
            "text/plain": [
              "2"
            ]
          },
          "metadata": {},
          "execution_count": 30
        }
      ]
    },
    {
      "cell_type": "code",
      "source": [
        "# 배열의 len과 같은 의미\n",
        "\n",
        "a1.size"
      ],
      "metadata": {
        "id": "Rhdl0WEULdmg",
        "outputId": "72cd8308-63b3-477f-d4cb-03f2ae5e5765",
        "colab": {
          "base_uri": "https://localhost:8080/"
        }
      },
      "execution_count": null,
      "outputs": [
        {
          "output_type": "execute_result",
          "data": {
            "text/plain": [
              "9"
            ]
          },
          "metadata": {},
          "execution_count": 33
        }
      ]
    },
    {
      "cell_type": "code",
      "source": [
        "# 해당 행렬의 데이터 타입\n",
        "\n",
        "a1.dtype"
      ],
      "metadata": {
        "id": "inE_SJEELpT-",
        "outputId": "7f0c9fb8-a739-4d44-d826-ee2d613a218d",
        "colab": {
          "base_uri": "https://localhost:8080/"
        }
      },
      "execution_count": null,
      "outputs": [
        {
          "output_type": "execute_result",
          "data": {
            "text/plain": [
              "dtype('int64')"
            ]
          },
          "metadata": {},
          "execution_count": 34
        }
      ]
    },
    {
      "cell_type": "code",
      "source": [
        "# 1~4까지의 숫자를 2행2열의 행렬을 만듬\n",
        "\n",
        "ar1 = np.array(range(1,5)).reshape(2,2)\n",
        "ar1"
      ],
      "metadata": {
        "id": "8uJvDX4sLuvP",
        "outputId": "4b6622f4-15a5-4ae7-bfb0-c27dfa18ef84",
        "colab": {
          "base_uri": "https://localhost:8080/"
        }
      },
      "execution_count": null,
      "outputs": [
        {
          "output_type": "execute_result",
          "data": {
            "text/plain": [
              "array([[1, 2],\n",
              "       [3, 4]])"
            ]
          },
          "metadata": {},
          "execution_count": 41
        }
      ]
    },
    {
      "cell_type": "markdown",
      "source": [
        "# **numpy와 list의 차이**"
      ],
      "metadata": {
        "id": "0JMpBpnmNeuU"
      }
    },
    {
      "cell_type": "code",
      "source": [
        "# list\n",
        "\n",
        "A = [[1,0],[0,1]]\n",
        "B = [[1,1],[1,1]]\n",
        "\n",
        "A+B"
      ],
      "metadata": {
        "id": "iPeavw1ONq9T",
        "outputId": "301db48d-a9b8-4af9-cbb4-ef9abca7fdac",
        "colab": {
          "base_uri": "https://localhost:8080/"
        }
      },
      "execution_count": null,
      "outputs": [
        {
          "output_type": "execute_result",
          "data": {
            "text/plain": [
              "[[1, 0], [0, 1], [1, 1], [1, 1]]"
            ]
          },
          "metadata": {},
          "execution_count": 42
        }
      ]
    },
    {
      "cell_type": "code",
      "source": [
        "# numpy\n",
        "\n",
        "a1 = np.array([[1,0],[0,1]])\n",
        "a2 = np.array([[1,0],[0,1]])\n",
        "\n",
        "a1+a2"
      ],
      "metadata": {
        "id": "Bt69hNMJN8Eb",
        "outputId": "21228237-f5b0-41b4-e1d7-ae3807028eaf",
        "colab": {
          "base_uri": "https://localhost:8080/"
        }
      },
      "execution_count": null,
      "outputs": [
        {
          "output_type": "execute_result",
          "data": {
            "text/plain": [
              "array([[2, 0],\n",
              "       [0, 2]])"
            ]
          },
          "metadata": {},
          "execution_count": 53
        }
      ]
    },
    {
      "cell_type": "markdown",
      "source": [
        "# **numpy vector(1차원 배열)**\n",
        "- 머신러닝 코드 구현 시, 연산을 위해서 벡터, matrix 등의 구조(shape), 차원(dimension)을 확인하는 것이 필요\n",
        "- 백터 생성"
      ],
      "metadata": {
        "id": "SoLm9NfKO737"
      }
    },
    {
      "cell_type": "code",
      "source": [
        "A = np.array([1,2,3])\n",
        "B = np.array([4,5,6])\n",
        "\n",
        "print(\"A = \", A, \", B = \", B)\n",
        "\n",
        "print(\"A+B = \", A+B)\n",
        "print(\"A-B = \", A-B)\n",
        "print(\"A*B = \", A*B)\n",
        "print(\"A/B = \", A/B)\n",
        "print(\"A%B = \", A%B)"
      ],
      "metadata": {
        "id": "CraR5lScO5uN",
        "outputId": "deb44885-4221-4662-efdd-ca8ff9f46c66",
        "colab": {
          "base_uri": "https://localhost:8080/"
        }
      },
      "execution_count": null,
      "outputs": [
        {
          "output_type": "stream",
          "name": "stdout",
          "text": [
            "A =  [1 2 3] , B =  [4]\n",
            "A+B =  [5 6 7]\n",
            "A-B =  [-3 -2 -1]\n",
            "A*B =  [ 4  8 12]\n",
            "A/B =  [0.25 0.5  0.75]\n",
            "A%B =  [1 2 3]\n"
          ]
        }
      ]
    },
    {
      "cell_type": "markdown",
      "source": [
        "# **numpy 행렬 곱**\n",
        " - 행렬 곱\n",
        "    - A행렬과 B행렬의 행렬 곱(dot product)는 np.dot(A,B)로 나타냄, 행렬 A의 열벡터와 B 행렬의 행벡터의 요수 수가 같아야함.\n",
        "    - 만약 같지 않으면 reshpae 또는 전치햏열(transpose) 등을 사용하여 형 변환을 한 후에 행렬 곱을 실행."
      ],
      "metadata": {
        "id": "fuNlsbq5QzE7"
      }
    },
    {
      "cell_type": "code",
      "source": [
        ""
      ],
      "metadata": {
        "id": "2fwTIMMFQyd5"
      },
      "execution_count": null,
      "outputs": []
    }
  ]
}